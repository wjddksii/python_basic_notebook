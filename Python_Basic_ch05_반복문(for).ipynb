{
 "cells": [
  {
   "cell_type": "markdown",
   "id": "b9cda583",
   "metadata": {},
   "source": [
    "## loop(반복문)\n",
    "\n",
    "- 반복적인 작업을 가능하게 해주는 도구\n",
    "- list, str. tuple 등 컬렉션 타입의 경우 아이템을 하나씩 순회하면서 사용(for)\n",
    "- 특정 조건을 맍고하는 경우 계속 수행(while)\n",
    "\n",
    "1. 반복 횟수 알고 있음: for\n",
    "2. 반복 횟수 모름: while"
   ]
  },
  {
   "cell_type": "markdown",
   "id": "7e4966f9",
   "metadata": {},
   "source": [
    "## 반복문(for)"
   ]
  },
  {
   "cell_type": "code",
   "execution_count": 1,
   "id": "e567dfc1",
   "metadata": {},
   "outputs": [
    {
     "name": "stdout",
     "output_type": "stream",
     "text": [
      "1\n",
      "2\n",
      "3\n"
     ]
    }
   ],
   "source": [
    "# 컬렉션 타입을 활용한 반복문\n",
    "list_a = [1, 2, 3]\n",
    "\n",
    "for num in list_a:\n",
    "    print(num)"
   ]
  },
  {
   "cell_type": "code",
   "execution_count": 7,
   "id": "e6cd34ba",
   "metadata": {},
   "outputs": [
    {
     "name": "stdout",
     "output_type": "stream",
     "text": [
      "0\n",
      "1\n",
      "2\n",
      "3\n",
      "4\n",
      "5\n",
      "6\n",
      "7\n",
      "8\n",
      "9\n"
     ]
    }
   ],
   "source": [
    "# range() 함수를 활용한 반복문\n",
    "# range(1,11)\n",
    "\n",
    "# list(range(11))\n",
    "\n",
    "for i in range(10):\n",
    "    print(i)"
   ]
  },
  {
   "cell_type": "code",
   "execution_count": 15,
   "id": "10a67fd2",
   "metadata": {},
   "outputs": [
    {
     "name": "stdout",
     "output_type": "stream",
     "text": [
      "0 7\n",
      "1 8\n",
      "2 9\n"
     ]
    }
   ],
   "source": [
    "# enumerate() 활용한 반복문\n",
    "# - 반복 횟수(인덱스) 알고 싶은 경우 사용\n",
    "a = [7, 8, 9]\n",
    "for i, val in enumerate(a):  # 인덱스 i로 씀\n",
    "    print(i, val)"
   ]
  },
  {
   "cell_type": "code",
   "execution_count": 16,
   "id": "e3a6aeb7",
   "metadata": {},
   "outputs": [
    {
     "name": "stdout",
     "output_type": "stream",
     "text": [
      "0 0\n",
      "0 1\n",
      "0 2\n",
      "1 0\n",
      "1 1\n",
      "1 2\n",
      "2 0\n",
      "2 1\n",
      "2 2\n",
      "3 0\n",
      "3 1\n",
      "3 2\n",
      "4 0\n",
      "4 1\n",
      "4 2\n"
     ]
    }
   ],
   "source": [
    "# 중첩 for문\n",
    "for i in range(5):  # 위에서 한번 반복할때 아래것이 3번 반복\n",
    "    for j in range(3):\n",
    "        print(i,j)"
   ]
  },
  {
   "cell_type": "code",
   "execution_count": 18,
   "id": "160afceb",
   "metadata": {},
   "outputs": [
    {
     "name": "stdout",
     "output_type": "stream",
     "text": [
      "index: 0, value: A\n",
      "index: 1, value: B\n",
      "index: 2, value: C\n",
      "index: 3, value: D\n"
     ]
    }
   ],
   "source": [
    "a = [\"A\", \"B\", \"C\", \"D\"]\n",
    "for i, val in enumerate(a):\n",
    "    print(f\"index: {i}, value: {val}\")"
   ]
  },
  {
   "cell_type": "code",
   "execution_count": 20,
   "id": "1476dfed",
   "metadata": {},
   "outputs": [
    {
     "name": "stdout",
     "output_type": "stream",
     "text": [
      "korea\n",
      "Japan\n",
      "Canada\n"
     ]
    }
   ],
   "source": [
    "# dict type\n",
    "a = {\n",
    "    \"korea\" : \"Seoul\",\n",
    "    \"Japan\" : \"Tokyo\",\n",
    "    \"Canada\" : \"Ottawa\"\n",
    "}\n",
    "\n",
    "for key in a:\n",
    "    print(key)"
   ]
  },
  {
   "cell_type": "code",
   "execution_count": 21,
   "id": "27b3cd1b",
   "metadata": {},
   "outputs": [
    {
     "name": "stdout",
     "output_type": "stream",
     "text": [
      "korea\n",
      "Japan\n",
      "Canada\n"
     ]
    }
   ],
   "source": [
    "for value in a:\n",
    "    print(value)"
   ]
  },
  {
   "cell_type": "code",
   "execution_count": 23,
   "id": "5d98d479",
   "metadata": {},
   "outputs": [
    {
     "name": "stdout",
     "output_type": "stream",
     "text": [
      "korea Seoul\n",
      "Japan Tokyo\n",
      "Canada Ottawa\n"
     ]
    }
   ],
   "source": [
    "for key, value in a.items():\n",
    "    print(key, value)"
   ]
  },
  {
   "cell_type": "code",
   "execution_count": 25,
   "id": "07d4bfed",
   "metadata": {},
   "outputs": [
    {
     "name": "stdout",
     "output_type": "stream",
     "text": [
      "1\n",
      "2\n",
      "3\n"
     ]
    }
   ],
   "source": [
    "# break: 반복문 종료\n",
    "a = [1, 2, 3, 4, 5]\n",
    "\n",
    "for num in a:\n",
    "    if num > 3:\n",
    "        break\n",
    "    print(num)"
   ]
  },
  {
   "cell_type": "code",
   "execution_count": 26,
   "id": "1be58c32",
   "metadata": {},
   "outputs": [
    {
     "name": "stdout",
     "output_type": "stream",
     "text": [
      "1\n",
      "3\n",
      "5\n"
     ]
    }
   ],
   "source": [
    "# continue: 해당 반복을 건너뛰고 다음 반복으로 이동 (반복문 종료X)\n",
    "\n",
    "a = [1, 2, 3, 4, 5]\n",
    "\n",
    "for num in a:\n",
    "    if num % 2 == 0:  # 짝수 판별 코드\n",
    "        continue  # 아래 print 뛰어넘고 다시 for로 돌아감\n",
    "    print(num)"
   ]
  }
 ],
 "metadata": {
  "kernelspec": {
   "display_name": "Python 3 (ipykernel)",
   "language": "python",
   "name": "python3"
  },
  "language_info": {
   "codemirror_mode": {
    "name": "ipython",
    "version": 3
   },
   "file_extension": ".py",
   "mimetype": "text/x-python",
   "name": "python",
   "nbconvert_exporter": "python",
   "pygments_lexer": "ipython3",
   "version": "3.9.7"
  }
 },
 "nbformat": 4,
 "nbformat_minor": 5
}
