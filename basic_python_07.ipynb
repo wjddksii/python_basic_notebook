{
 "cells": [
  {
   "cell_type": "markdown",
   "id": "0e17cd78",
   "metadata": {},
   "source": [
    "### 4. Default Parameter\n",
    "- 함수 호출시 parameter를 전달 받지 못한 경우 기본 값을 사용\n",
    "\n",
    "```python\n",
    "# 올바른 사용 예\n",
    "def test(a, b, c = 3):  # 사용자가 c값을 안줬을 때만 c=3, 만약 1,2,5 를 줬으면 c = 5\n",
    "def test(a, b = 2, c = 3):  # 뒤에서부터만 parament 줄 수 있음\n",
    "def test(a =1, b = 2, c = 3):\n",
    "```\n",
    "\n",
    "```python\n",
    "# 잘못된 사용 예\n",
    "def test(a, b = 2, c):\n",
    "def test(a = 1, b, c = 3):\n",
    "def test(a = 1, b = 2, c):\n",
    "```"
   ]
  },
  {
   "cell_type": "markdown",
   "id": "69d265d4",
   "metadata": {},
   "source": [
    "### 5. 변수의 범위\n",
    "- 변수가 참조 가능한 코드상의 범위를 명시\n",
    "- 함수내의 변수는 자신이 속한 코드블록이 종료되면 소멸됨\n",
    "- 특정 코드블록에서 선언된 변수를 지역변수라고 함\n",
    "- 반대로 가장 상단에서 정의되어 프로그램 종료전까지 유지되는 변수를 전역변수라고 함\n",
    "- 같은 이름의 지역변수, 전역변수가 존재하는 경우 가까운 변수가 먼저 실행"
   ]
  },
  {
   "cell_type": "code",
   "execution_count": 3,
   "id": "aad68d85",
   "metadata": {},
   "outputs": [
    {
     "name": "stdout",
     "output_type": "stream",
     "text": [
      "50 60\n",
      "10 20\n"
     ]
    }
   ],
   "source": [
    "num1 = 10  # 전역변수\n",
    "num2 = 20\n",
    "\n",
    "def test():\n",
    "    num1 = 50  # 지역변수 ; def 블록 내에서만 사용 가능\n",
    "    num2 = 60\n",
    "    print(num1, num2)\n",
    "\n",
    "test()  # def test로 가서 50,60\n",
    "print(num1, num2)  # 맨 위로가서 10,20"
   ]
  },
  {
   "cell_type": "markdown",
   "id": "ef263032",
   "metadata": {},
   "source": [
    "### 6. variable length parameter (가변길이 인자)\n",
    "\n",
    "- 전달되는 parameter의 개수가 고정적이지 않은 경우 사용\n",
    "- 예 : print(), format()\n",
    "\n",
    "1. *agrs : tuple type\n",
    "2. **kwargs : dict type"
   ]
  },
  {
   "cell_type": "code",
   "execution_count": 5,
   "id": "f94d4ec3",
   "metadata": {},
   "outputs": [
    {
     "name": "stdout",
     "output_type": "stream",
     "text": [
      "10\n",
      "20\n",
      "30\n",
      "40\n"
     ]
    }
   ],
   "source": [
    "def test(*args) :\n",
    "    for item in args:\n",
    "        print(item)\n",
    "        \n",
    "test(10, 20, 30, 40)"
   ]
  }
 ],
 "metadata": {
  "kernelspec": {
   "display_name": "Python 3 (ipykernel)",
   "language": "python",
   "name": "python3"
  },
  "language_info": {
   "codemirror_mode": {
    "name": "ipython",
    "version": 3
   },
   "file_extension": ".py",
   "mimetype": "text/x-python",
   "name": "python",
   "nbconvert_exporter": "python",
   "pygments_lexer": "ipython3",
   "version": "3.9.7"
  }
 },
 "nbformat": 4,
 "nbformat_minor": 5
}
