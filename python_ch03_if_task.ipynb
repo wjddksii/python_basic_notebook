{
 "cells": [
  {
   "cell_type": "code",
   "execution_count": 2,
   "id": "e8d6c8c2",
   "metadata": {},
   "outputs": [
    {
     "name": "stdout",
     "output_type": "stream",
     "text": [
      "당신이 태어난 년도를 입력하세요:2003\n",
      "대학생\n"
     ]
    }
   ],
   "source": [
    "# 문제1. 어떤 종류의 학생인지 맞히기\n",
    "\n",
    "from datetime import datetime\n",
    "\n",
    "# 1. 사용자로부터 태어난 년도 입력받기\n",
    "\n",
    "born = input(\"당신이 태어난 년도를 입력하세요:\")\n",
    "\n",
    "# 2. 나이 계산\n",
    "age = datetime.today().year - int(born) + 1\n",
    "\n",
    "# 3. 어떤 종류 학생인지 출력\n",
    "if age <= 26 and age >= 20:\n",
    "    print(\"대학생\")\n",
    "elif age < 20 and age >= 17:\n",
    "    print(\"고등학생\")\n",
    "elif age < 17 and age >= 14:\n",
    "    print(\"중학생\")\n",
    "elif age < 14 and age >= 8:\n",
    "    print(\"초등학생\")\n",
    "else:\n",
    "    print(\"학생이 아닙니다.\")"
   ]
  },
  {
   "cell_type": "code",
   "execution_count": 6,
   "id": "dce3e2a7",
   "metadata": {},
   "outputs": [
    {
     "name": "stdout",
     "output_type": "stream",
     "text": [
      "학점을 입력하세요:1\n",
      "F\n"
     ]
    }
   ],
   "source": [
    "# 문제2. 학점계산기 ~~숙제~~\n",
    "\n",
    "# 1. 사용자로부터 학점 입력 (소수점, ex: 4.2)\n",
    "point = input(\"학점을 입력하세요:\")  # 모든 input은 str로 받음\n",
    "grade = float(point)\n",
    "\n",
    "\n",
    "# + 추가조건: 사용자가 입력한 값이 0.0 ~ 4.5 이면 2번으로 넘어감.\n",
    "#             아니면 error 문장 출력(0.0 ~ 4.5 사이의 값을 입력해주세요.)\n",
    "if grade > 4.5 or grade < 0:\n",
    "    print(\"0.0 ~ 4.5 사이의 값을 입력해주세요.\")\n",
    "\n",
    "else:\n",
    "    if 4.0 <= grade < 4.5:\n",
    "        print(\"A\")\n",
    "    elif 3.5 <= grade < 4.0:\n",
    "        print(\"B\")\n",
    "    elif 3.0 <= grade < 3.5:\n",
    "        print(\"C\")\n",
    "    elif 2.5 <= grade < 3.0:\n",
    "        print(\"D\")\n",
    "    else:\n",
    "        print(\"F\")\n",
    "\n",
    "\n",
    "# 2. 입력받은 학점에 따라 등급 출력\n",
    "# 4.0 ~ 4.5 A\n",
    "# 3.5 ~ 3.9 B\n",
    "# 3.0 ~ 3.4 C\n",
    "# 2.5 ~ 1.9 D\n",
    "# 그 외 F\n"
   ]
  },
  {
   "cell_type": "code",
   "execution_count": null,
   "id": "ecb3d4e8",
   "metadata": {},
   "outputs": [],
   "source": [
    "# 문제2. 학점계산기 ~~숙제~~\n",
    "\n",
    "# 1. 사용자로부터 학점 입력 (소수점, ex: 4.2)\n",
    "score = float(input(\"학점을 입력하세요:\"))\n",
    "\n",
    "# + 추가조건: 사용자가 입력한 값이 0.0 ~ 4.5 이면 2번으로 넘어감.\n",
    "#             아니면 error 문장 출력(0.0 ~ 4.5 사이의 값을 입력해주세요.)\n",
    "if score >= 0.0 and score <= 4.5:  #socre: 0.0 ~ 4.5\n",
    "    ## pass\n",
    "    if score >= 4.0:  # max score: 4.5\n",
    "        print(\"A\")\n",
    "    elif score >= 3.5:  # max score: 3.9\n",
    "        print(\"B\")\n",
    "    elif score >= 3.0:  # max score: 3.4\n",
    "        print(\"C\")\n",
    "    elif score >= 2.5 :  # max score: 2.9\n",
    "        print(\"D\")\n",
    "    else:  # score: 0.0 ~ 2.4\n",
    "        print(\"F\")\n",
    "else:\n",
    "    print(\"Error: 0.0 ~ 4.5 사이의 값을 입력하세요.\")\n",
    "\n",
    "# 2. 입력받은 학점에 따라 등급 출력\n",
    "# 4.0 ~ 4.5 A\n",
    "# 3.5 ~ 3.9 B\n",
    "# 3.0 ~ 3.4 C\n",
    "# 2.5 ~ 1.9 D\n",
    "# 그 외 F\n"
   ]
  }
 ],
 "metadata": {
  "kernelspec": {
   "display_name": "Python 3 (ipykernel)",
   "language": "python",
   "name": "python3"
  },
  "language_info": {
   "codemirror_mode": {
    "name": "ipython",
    "version": 3
   },
   "file_extension": ".py",
   "mimetype": "text/x-python",
   "name": "python",
   "nbconvert_exporter": "python",
   "pygments_lexer": "ipython3",
   "version": "3.9.13"
  }
 },
 "nbformat": 4,
 "nbformat_minor": 5
}
