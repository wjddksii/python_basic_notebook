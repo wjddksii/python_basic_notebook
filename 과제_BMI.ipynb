{
 "cells": [
  {
   "cell_type": "code",
   "execution_count": 9,
   "id": "d164ca70",
   "metadata": {},
   "outputs": [
    {
     "name": "stdout",
     "output_type": "stream",
     "text": [
      "신장을 입력하세요.:191\n",
      "체중을 입력하세요.:103\n",
      "bmi지수는 28.2로 비만입니다.\n"
     ]
    }
   ],
   "source": [
    "# BMI 계산기\n",
    "\n",
    "# 1.사용자로부터 신장(cm), 체중(kg)을 입력 받으세요.\n",
    "\n",
    "height = float(input(\"신장을 입력하세요.:\"))\n",
    "\n",
    "weight = float(input(\"체중을 입력하세요.:\"))\n",
    "\n",
    "\n",
    "\n",
    "# 2. BMI 계산하기\n",
    "\n",
    "# bmi =  체중(kg) / (신장(m) x 신장(m))\n",
    "\n",
    "bmi = weight / (height/100) ** 2\n",
    "\n",
    "\n",
    "\n",
    "# 3.bmi 소수점 둘째자리에서 반올림\n",
    "\n",
    "# round()함수를 활용하세요. (인터넷 검색) \n",
    "\n",
    "bmi = round(bmi,1)\n",
    "\n",
    "# 4.bmi 지수에 맞게 고도비만, 비만, 과체중, 등으로 출력하도록 작성하세요.\n",
    "\n",
    "if bmi <18.5:\n",
    "    result = \"저체중\"\n",
    "elif bmi < 23:\n",
    "    result = \"정상\"\n",
    "elif bmi < 25:\n",
    "    result = \"과체중\"\n",
    "elif bmi < 30:\n",
    "    result = \"비만\"\n",
    "else:\n",
    "    result = \"고도비만\"\n",
    "    \n",
    "\n",
    "# 5.결과 출력\n",
    "print(f\"bmi지수는 {bmi}로 {result}입니다.\")\n",
    "\n",
    "# 예: \"bmi지수는 22.1로 정상입니다.\"\n",
    "\n",
    "# 예시와 같이 출력되도록 코드를 작성하세요."
   ]
  }
 ],
 "metadata": {
  "kernelspec": {
   "display_name": "Python 3 (ipykernel)",
   "language": "python",
   "name": "python3"
  },
  "language_info": {
   "codemirror_mode": {
    "name": "ipython",
    "version": 3
   },
   "file_extension": ".py",
   "mimetype": "text/x-python",
   "name": "python",
   "nbconvert_exporter": "python",
   "pygments_lexer": "ipython3",
   "version": "3.9.13"
  }
 },
 "nbformat": 4,
 "nbformat_minor": 5
}
